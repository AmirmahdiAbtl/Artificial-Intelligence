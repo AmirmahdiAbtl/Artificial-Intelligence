{
 "cells": [
  {
   "cell_type": "code",
   "execution_count": 1,
   "metadata": {
    "id": "_fADt8EfOQas"
   },
   "outputs": [],
   "source": [
    "import numpy as np\n",
    "np.seterr(divide='ignore', invalid='ignore')\n",
    "from re import findall\n",
    "from hazm import Stemmer, word_tokenize\n",
    "from sklearn.feature_selection import chi2, SelectKBest\n",
    "from glob import glob\n",
    "from sklearn.feature_extraction.text import CountVectorizer\n",
    "from sklearn.naive_bayes import GaussianNB, MultinomialNB\n",
    "from sklearn.metrics import classification_report, confusion_matrix, accuracy_score\n",
    "import time\n",
    "\n",
    "\"\"\"Countvectorzer initialize\"\"\"\n",
    "vect = CountVectorizer()\n",
    "is_file = True\n",
    "\n",
    "\"\"\"stemmer from hazm\"\"\"\n",
    "stemmer = Stemmer()\n",
    "stopwords = set(open('stop-words.txt', encoding='utf8').read().splitlines())\n",
    "hamtrains = glob('dataset/hamtraining/hamtraining*.txt')\n",
    "spamtrains = glob('dataset/spamtraining/spamtraining*.txt')\n",
    "\n",
    "hamtests = glob('dataset/hamtesting/hamtesting*.txt')\n",
    "spamtests = glob('dataset/spamtesting/spamtesting*.txt')\n",
    "\n",
    "ham_spam_test = hamtests + spamtests\n",
    "ham_spam_train = hamtrains + spamtrains\n",
    "\n",
    "y_train = [False for i in range(300)]\n",
    "y_spam_train = [True for i in range(300)]\n",
    "y_train.extend(y_spam_train)\n",
    "\n",
    "\n",
    "y_test = [False for i in range(200)]\n",
    "y_spam_test = [True for i in range(200)]\n",
    "y_test.extend(y_spam_test)"
   ]
  },
  {
   "cell_type": "markdown",
   "metadata": {
    "id": "RkAXHzrkL1S5"
   },
   "source": [
    "### Preprocess"
   ]
  },
  {
   "cell_type": "code",
   "execution_count": 2,
   "metadata": {
    "id": "TLo8Z3tjNY6A"
   },
   "outputs": [],
   "source": [
    "class const:\n",
    "    farsi = ('ب', 'س', 'ش', 'ل', 'ت', 'ن', 'م', 'گ', 'ظ', 'ط', 'ز',\n",
    "             'ر', 'ژ', 'ذ', 'د', 'پ', 'چ', 'ج', 'ح', 'ع', \n",
    "             'خ', 'غ', 'ف', 'ق', 'ث', 'ص', 'ض','\\u0020', '\\u060c','؟', '!', '?', '.', ':','\\n','_')\n",
    "\n",
    "    alef = ('ا', 'آ', 'ء', 'أ', 'إ')\n",
    "    vav = ('و', 'ؤ')\n",
    "    heh = ('ه', 'ة', 'ە')\n",
    "    yah = ('ی', 'ي', 'ئ', 'ى')\n",
    "    kaf = ('ک', 'ك')\n",
    "    punc = ('_', '-')\n",
    "\n",
    "def persian_char(char):\n",
    "    if char in const.farsi:\n",
    "        return char\n",
    "    if char in const.alef:\n",
    "        return const.alef[0]\n",
    "    if char in const.vav:\n",
    "        return const.vav[0]\n",
    "    if char in const.heh:\n",
    "        return const.heh[0]\n",
    "    if char in const.yah:\n",
    "        return const.yah[0]\n",
    "    if char in const.kaf:\n",
    "        return const.kaf[0]\n",
    "    if char in const.punc:\n",
    "      return ' '\n",
    "    return ''\n",
    "\n",
    "def pre_process(path):\n",
    "    if is_file == False:\n",
    "        text = path\n",
    "    else:\n",
    "        text = open(path, encoding='utf8').read()\n",
    "\n",
    "#     urls = len(findall('(?:(?:https?|ftp):\\/\\/)?[\\w/\\-?=%.]+\\.[\\w/\\-?=%.]+', text))\n",
    "    \n",
    "    map_test = map(persian_char, text)\n",
    "    sentence = ''.join(map_test)\n",
    "    word_tokens = word_tokenize(sentence)\n",
    "    filtered_sentence = [w for w in word_tokens if w not in stopwords] #+ ['url' for i in range(urls)]\n",
    "    filtered_sentence = ' '.join(filtered_sentence)\n",
    "    return filtered_sentence"
   ]
  },
  {
   "cell_type": "code",
   "execution_count": 3,
   "metadata": {
    "id": "eq6fmbKJNAON"
   },
   "outputs": [],
   "source": [
    "def feature(data):\n",
    "    if is_file == False:\n",
    "        feature_list = [pre_process(data)]\n",
    "    else:    \n",
    "        map_loop = map(pre_process, data)\n",
    "        feature_list = list(map_loop)\n",
    "    return feature_list"
   ]
  },
  {
   "cell_type": "code",
   "execution_count": 4,
   "metadata": {
    "id": "f4W7WDyHSIqJ"
   },
   "outputs": [],
   "source": [
    "def vectorize(feature_list):\n",
    "    X_dtm = vect.fit_transform(feature_list)\n",
    "    X_dtm = X_dtm.toarray()\n",
    "    return X_dtm"
   ]
  },
  {
   "cell_type": "code",
   "execution_count": 5,
   "metadata": {
    "id": "EctJShjtRrtx"
   },
   "outputs": [],
   "source": [
    "def feature_selection(k,X_dtm):\n",
    "    chi2_features = SelectKBest(chi2, k=k)\n",
    "    X_kbest_features = chi2_features.fit_transform(X_dtm, y_train)\n",
    "    return X_kbest_features, chi2_features"
   ]
  },
  {
   "cell_type": "code",
   "execution_count": 6,
   "metadata": {
    "id": "kW63H6H2M081"
   },
   "outputs": [],
   "source": [
    "def transform(data,chi2_features):\n",
    "    tokens = feature(data)\n",
    "    x0 = vect.transform(tokens).toarray()\n",
    "    cx = chi2_features.transform(x0)\n",
    "    return cx"
   ]
  },
  {
   "cell_type": "code",
   "execution_count": 7,
   "metadata": {
    "id": "QG_JW7OCRv33"
   },
   "outputs": [],
   "source": [
    "X_dtm = vectorize(feature(ham_spam_train))\n",
    "x_train, chi2_features = feature_selection(700,X_dtm)"
   ]
  },
  {
   "cell_type": "markdown",
   "metadata": {
    "id": "So9qhaNiL6k2"
   },
   "source": [
    "### Just for Intuition"
   ]
  },
  {
   "cell_type": "code",
   "execution_count": 8,
   "metadata": {
    "colab": {
     "base_uri": "https://localhost:8080/"
    },
    "id": "1KVb5YkTRxbH",
    "outputId": "34bd04b5-0539-4a67-decd-4a73cbae81a7"
   },
   "outputs": [
    {
     "data": {
      "text/plain": [
       "MultinomialNB()"
      ]
     },
     "execution_count": 8,
     "metadata": {},
     "output_type": "execute_result"
    }
   ],
   "source": [
    "# gnb = GaussianNB()\n",
    "mnb = MultinomialNB()\n",
    "mnb.fit(x_train,y_train)"
   ]
  },
  {
   "cell_type": "code",
   "execution_count": 9,
   "metadata": {
    "id": "do9ij0utRzKN"
   },
   "outputs": [],
   "source": [
    "\"\"\"Just for test and compare\"\"\"\n",
    "x_test = transform(ham_spam_test, chi2_features)\n",
    "predict_val = mnb.predict(x_test)"
   ]
  },
  {
   "cell_type": "code",
   "execution_count": 10,
   "metadata": {
    "colab": {
     "base_uri": "https://localhost:8080/"
    },
    "id": "dqVRo_9cR1UB",
    "outputId": "91fade46-9687-4d17-8678-67d74eb70ef1"
   },
   "outputs": [
    {
     "name": "stdout",
     "output_type": "stream",
     "text": [
      "              precision    recall  f1-score   support\n",
      "\n",
      "       False       0.93      0.97      0.95       200\n",
      "        True       0.97      0.93      0.95       200\n",
      "\n",
      "    accuracy                           0.95       400\n",
      "   macro avg       0.95      0.95      0.95       400\n",
      "weighted avg       0.95      0.95      0.95       400\n",
      "\n"
     ]
    }
   ],
   "source": [
    "\"\"\"Show metrics and score!\"\"\"\n",
    "print(classification_report(y_test, predict_val))"
   ]
  },
  {
   "cell_type": "markdown",
   "metadata": {
    "id": "4T_yx4pSNBbK"
   },
   "source": [
    "### Naive bayes model"
   ]
  },
  {
   "cell_type": "code",
   "execution_count": 11,
   "metadata": {
    "id": "5PWMEKHsNhaS"
   },
   "outputs": [],
   "source": [
    "test_data = transform(ham_spam_test, chi2_features)"
   ]
  },
  {
   "cell_type": "code",
   "execution_count": 12,
   "metadata": {
    "colab": {
     "base_uri": "https://localhost:8080/"
    },
    "id": "7vVys7IZJLUJ",
    "outputId": "a7acc491-9ac2-44f8-b745-f2e221a2bd6d"
   },
   "outputs": [
    {
     "data": {
      "text/plain": [
       "array([0, 0, 0, 0, 0, 0, 0, 0, 0, 0, 0, 0, 0, 0, 0, 0, 0, 0, 0, 0, 0, 0,\n",
       "       0, 0, 0, 0, 0, 0, 0, 0, 0, 0, 0, 0, 0, 0, 0, 0, 0, 0, 0, 0, 0, 0,\n",
       "       0, 0, 0, 0, 0, 0, 0, 0, 0, 0, 0, 0, 0, 0, 0, 0, 0, 0, 0, 0, 0, 0,\n",
       "       0, 0, 0, 0, 0, 0, 0, 0, 0, 0, 0, 0, 0, 0, 0, 0, 0, 0, 0, 0, 0, 0,\n",
       "       0, 0, 0, 0, 0, 0, 0, 0, 0, 0, 0, 0, 0, 0, 0, 0, 0, 0, 0, 0, 0, 0,\n",
       "       0, 0, 0, 0, 0, 0, 0, 0, 0, 0, 0, 0, 0, 0, 0, 0, 0, 0, 0, 0, 0, 0,\n",
       "       0, 0, 0, 0, 0, 0, 0, 0, 0, 0, 0, 0, 0, 0, 0, 0, 0, 0, 0, 0, 0, 0,\n",
       "       0, 0, 0, 0, 0, 0, 0, 0, 0, 0, 0, 0, 0, 0, 0, 0, 0, 0, 0, 0, 0, 0,\n",
       "       0, 0, 0, 0, 0, 0, 0, 0, 0, 0, 0, 0, 0, 0, 0, 0, 0, 0, 0, 0, 0, 0,\n",
       "       0, 0, 0, 0, 0, 0, 0, 0, 0, 0, 0, 0, 0, 0, 0, 0, 0, 0, 0, 0, 0, 0,\n",
       "       0, 0, 0, 0, 0, 0, 0, 0, 0, 0, 0, 0, 0, 0, 0, 0, 0, 0, 0, 0, 0, 0,\n",
       "       0, 0, 0, 0, 0, 0, 0, 0, 0, 0, 0, 0, 0, 0, 0, 0, 0, 0, 0, 0, 0, 0,\n",
       "       0, 0, 0, 0, 0, 0, 0, 0, 0, 0, 0, 0, 0, 0, 0, 0, 0, 0, 0, 0, 0, 0,\n",
       "       0, 0, 0, 0, 0, 0, 0, 0, 0, 0, 0, 0, 0, 0, 0, 0, 0, 0, 0, 0, 0, 0,\n",
       "       0, 0, 0, 0, 0, 0, 0, 0, 0, 0, 0, 0, 0, 0, 0, 0, 0, 0, 0, 0, 0, 0,\n",
       "       0, 0, 0, 0, 0, 0, 0, 0, 0, 0, 0, 0, 0, 0, 0, 0, 0, 0, 0, 0, 0, 0,\n",
       "       0, 0, 0, 0, 0, 0, 0, 0, 0, 0, 0, 0, 0, 0, 0, 0, 0, 0, 0, 0, 0, 0,\n",
       "       0, 0, 0, 0, 0, 0, 1, 0, 0, 0, 0, 0, 0, 0, 0, 0, 0, 0, 0, 0, 0, 0,\n",
       "       0, 0, 0, 0, 0, 0, 0, 0, 0, 0, 0, 0, 0, 0, 0, 0, 0, 0, 0, 0, 0, 0,\n",
       "       0, 0, 0, 0, 0, 0, 0, 0, 0, 0, 0, 0, 0, 0, 0, 0, 0, 0, 0, 0, 0, 0,\n",
       "       0, 0, 0, 0, 0, 0, 0, 0, 0, 0, 0, 0, 0, 1, 0, 0, 0, 0, 0, 0, 0, 0,\n",
       "       0, 0, 0, 0, 0, 0, 0, 0, 0, 0, 0, 0, 0, 0, 0, 0, 0, 0, 0, 0, 0, 0,\n",
       "       0, 0, 0, 0, 0, 0, 0, 0, 0, 0, 0, 0, 0, 0, 0, 0, 0, 0, 0, 0, 0, 0,\n",
       "       0, 0, 0, 0, 0, 0, 0, 0, 0, 0, 0, 0, 0, 0, 0, 0, 0, 0, 0, 0, 1, 0,\n",
       "       0, 0, 0, 0, 0, 0, 0, 0, 0, 0, 0, 0, 0, 0, 0, 0, 0, 0, 0, 0, 0, 0,\n",
       "       0, 0, 0, 0, 0, 0, 0, 0, 0, 0, 0, 0, 0, 0, 0, 0, 0, 0, 0, 0, 0, 0,\n",
       "       0, 0, 0, 0, 0, 0, 0, 0, 0, 0, 0, 0, 0, 0, 0, 0, 0, 0, 0, 0, 0, 0,\n",
       "       0, 0, 0, 0, 0, 1, 0, 0, 0, 0, 0, 0, 0, 0, 0, 0, 0, 0, 0, 0, 0, 0,\n",
       "       0, 0, 0, 0, 0, 0, 0, 0, 0, 0, 0, 0, 0, 0, 0, 0, 0, 0, 0, 0, 0, 0,\n",
       "       0, 0, 0, 0, 0, 0, 0, 0, 0, 0, 0, 0, 0, 0, 0, 0, 0, 0, 0, 0, 0, 0,\n",
       "       0, 0, 0, 0, 0, 0, 0, 0, 0, 0, 0, 0, 0, 0, 0, 0, 0, 0, 0, 0, 0, 0,\n",
       "       0, 0, 0, 0, 0, 0, 0, 0, 0, 0, 0, 0, 0, 0, 0, 0, 0, 0], dtype=int64)"
      ]
     },
     "execution_count": 12,
     "metadata": {},
     "output_type": "execute_result"
    }
   ],
   "source": [
    "test_data[0]"
   ]
  },
  {
   "cell_type": "code",
   "execution_count": 26,
   "metadata": {},
   "outputs": [],
   "source": [
    "ps = 0.5\n",
    "ph = 0.5\n",
    "\n",
    "hamMatrix = np.zeros(700)\n",
    "hamTotalCount = 0\n",
    "for i in range (300):\n",
    "    z = 0\n",
    "    for j in x_train[i]:\n",
    "        hamTotalCount += j\n",
    "        hamMatrix[z] += j\n",
    "        z += 1\n",
    "        \n",
    "spamMatrix = np.zeros(700)\n",
    "spamTotalCount = 0\n",
    "for i in range(300, 600):\n",
    "    z = 0\n",
    "    for j in x_train[i]:\n",
    "        spamTotalCount += j\n",
    "        spamMatrix[z] += j\n",
    "        z += 1\n",
    "\n",
    "for i in range(700):\n",
    "    hamMatrix[i] = (hamMatrix[i] + 1) / (hamTotalCount + 700)\n",
    "    spamMatrix[i] = (spamMatrix[i] + 1) / (spamTotalCount + 700)"
   ]
  },
  {
   "cell_type": "code",
   "execution_count": 27,
   "metadata": {},
   "outputs": [],
   "source": [
    "def NBModel(mail):\n",
    "    flag = 0\n",
    "    spamProbability = ps\n",
    "    hamProbability = ph\n",
    "    for i in range(700):\n",
    "        spamProbability = spamProbability * pow(spamMatrix[i], mail[i])\n",
    "        hamProbability = hamProbability * pow(hamMatrix[i], mail[i])\n",
    "    if (spamProbability > hamProbability):\n",
    "        flag = True\n",
    "    else :\n",
    "        flag = False\n",
    "    return flag"
   ]
  },
  {
   "cell_type": "code",
   "execution_count": 28,
   "metadata": {},
   "outputs": [],
   "source": [
    "y_hat = []\n",
    "for i in x_test:\n",
    "    y_hat.append(NBModel(i))"
   ]
  },
  {
   "cell_type": "markdown",
   "metadata": {
    "id": "H2dZ-dvANM1n"
   },
   "source": [
    "### Result"
   ]
  },
  {
   "cell_type": "code",
   "execution_count": 29,
   "metadata": {
    "colab": {
     "base_uri": "https://localhost:8080/"
    },
    "id": "dSBVMGRAMUX-",
    "outputId": "ffc3c198-b838-4988-c41a-d6194388a441"
   },
   "outputs": [
    {
     "name": "stdout",
     "output_type": "stream",
     "text": [
      "              precision    recall  f1-score   support\n",
      "\n",
      "       False       0.76      0.97      0.86       200\n",
      "        True       0.97      0.69      0.81       200\n",
      "\n",
      "    accuracy                           0.83       400\n",
      "   macro avg       0.86      0.83      0.83       400\n",
      "weighted avg       0.86      0.83      0.83       400\n",
      "\n"
     ]
    }
   ],
   "source": [
    "print(classification_report(y_test, y_hat))"
   ]
  },
  {
   "cell_type": "code",
   "execution_count": 102,
   "metadata": {},
   "outputs": [
    {
     "name": "stdout",
     "output_type": "stream",
     "text": [
      "[[195   5]\n",
      " [ 61 139]]\n"
     ]
    }
   ],
   "source": [
    "from sklearn.metrics import confusion_matrix\n",
    "confusion = confusion_matrix(y_test, y_hat)\n",
    "print(confusion)"
   ]
  },
  {
   "cell_type": "code",
   "execution_count": 111,
   "metadata": {},
   "outputs": [
    {
     "data": {
      "text/plain": [
       "<AxesSubplot:>"
      ]
     },
     "execution_count": 111,
     "metadata": {},
     "output_type": "execute_result"
    },
    {
     "data": {
      "image/png": "[encoded data removed]",
      "text/plain": [
       "<Figure size 432x288 with 2 Axes>"
      ]
     },
     "metadata": {
      "needs_background": "light"
     },
     "output_type": "display_data"
    }
   ],
   "source": [
    "import seaborn as sns\n",
    "sns.heatmap(confusion, annot=True,fmt='d', cmap='Blues')"
   ]
  },
  {
   "cell_type": "code",
   "execution_count": 104,
   "metadata": {},
   "outputs": [
    {
     "data": {
      "text/plain": [
       "<AxesSubplot:>"
      ]
     },
     "execution_count": 104,
     "metadata": {},
     "output_type": "execute_result"
    },
    {
     "data": {
      "image/png": "[encoded data removed]",
      "text/plain": [
       "<Figure size 432x288 with 2 Axes>"
      ]
     },
     "metadata": {
      "needs_background": "light"
     },
     "output_type": "display_data"
    }
   ],
   "source": [
    "sns.heatmap(confusion/np.sum(confusion),\n",
    "            annot=True, fmt='.2%', cmap='Blues')"
   ]
  }
 ],
 "metadata": {
  "colab": {
   "collapsed_sections": [],
   "name": "Naive Bayes.ipynb",
   "provenance": []
  },
  "kernelspec": {
   "display_name": "Python 3 (ipykernel)",
   "language": "python",
   "name": "python3"
  },
  "language_info": {
   "codemirror_mode": {
    "name": "ipython",
    "version": 3
   },
   "file_extension": ".py",
   "mimetype": "text/x-python",
   "name": "python",
   "nbconvert_exporter": "python",
   "pygments_lexer": "ipython3",
   "version": "3.9.7"
  }
 },
 "nbformat": 4,
 "nbformat_minor": 1
}
