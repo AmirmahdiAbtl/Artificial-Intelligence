{
 "cells": [
  {
   "cell_type": "markdown",
   "id": "2065922d",
   "metadata": {},
   "source": [
    "# N-Puzzle with A* (manhattan distance)"
   ]
  },
  {
   "cell_type": "markdown",
   "id": "64ed91be",
   "metadata": {},
   "source": [
    "### for using A* algoritem we should have 3 function\n",
    "* 1 - heuristic function : we use manhattan distance heuristic function in this project it means we should just move horizontal or vetical \n",
    "* 2 - g function : the weight of between two node\n",
    "* 3 - f function : f(n) = h(n) + g(n)\n",
    "\n",
    "<h2 style=\"color: red\">Note: </h2><h4>We should change free tile for example if we want to shift number 2 to left we should swap free tile with 2 tile</h4>"
   ]
  },
  {
   "cell_type": "markdown",
   "id": "e231372a",
   "metadata": {},
   "source": [
    "### Puzzle Class :\n",
    "* at first we set value in __init__ function \n",
    "* set matrix and g function and f function\n",
    "\n",
    "#### moving function :\n",
    "* at first set zero to x , y ( x , y are the index of '0' or free tile )\n",
    "* then we find x, y\n",
    "* then we have 4 movement (down, up, right ,left) and we set movemnt_matrix with this 4 movement\n",
    "* now we know x,y and then we send x,y and each of the movement_matrix valiable to swaping function i[0] ,i[1] means the x2 and y2  for example movement_matrix[1][0] menas x or movement_matrix[1][1] means y+1\n",
    "* then we should check the temp result if its not none create new Puzzle instant with temp and increase the g function because we moved to a deep node now and then append the new puzzle to temp2 and then return it\n",
    "\n",
    "#### swaping function : \n",
    "* at first we check the x2 and y2 and if they arent lower than 0 or grater than len of original matrix we start swaping the x,y by x2, y2\n",
    "* at first we should create a copy of puzzle and then we should swap the temp2 ((; oh sorry for too many temp :)))\n",
    "* now return them swap matrix"
   ]
  },
  {
   "cell_type": "code",
   "execution_count": 1,
   "id": "f7cff2a2",
   "metadata": {},
   "outputs": [],
   "source": [
    "class Puzzle:\n",
    "    def __init__(self,matrix, g, f):\n",
    "        self.matrix = matrix\n",
    "        self.g = g\n",
    "        self.f = f\n",
    "    def moving(self):\n",
    "        x,y = 0, 0\n",
    "        for i in range(0,len(self.matrix)):\n",
    "            for j in range(0,len(self.matrix)):\n",
    "                if self.matrix[i][j] == '0':\n",
    "                    x, y = i, j\n",
    "        movement_matrix = [[x,y-1],[x,y+1],[x-1,y],[x+1,y]]\n",
    "        temp2 = []\n",
    "        for i in movement_matrix:\n",
    "            temp = self.swaping(self.matrix,x,y,i[0],i[1])\n",
    "            if temp is not None:\n",
    "                node = Puzzle(temp,self.g+1,0)\n",
    "                temp2.append(node)\n",
    "        return temp2\n",
    "        \n",
    "    def swaping(self,puz,x1,y1,x2,y2):\n",
    "        if x2 >= 0 and x2 < len(self.matrix) and y2 >= 0 and y2 < len(self.matrix):\n",
    "            temp2 = []\n",
    "            temp3 = []\n",
    "            for i in puz:\n",
    "                temp4 = []\n",
    "                for j in i:\n",
    "                    temp4.append(j)\n",
    "                temp3.append(temp4)\n",
    "            temp2 = temp3\n",
    "            temp3 = temp2[x2][y2]\n",
    "            temp2[x2][y2] = temp2[x1][y1]\n",
    "            temp2[x1][y1] = temp3\n",
    "            return temp2\n",
    "        else:\n",
    "            return None"
   ]
  },
  {
   "cell_type": "markdown",
   "id": "7da60d25",
   "metadata": {},
   "source": [
    "# N_puzzle_problem class:\n",
    "* at first set the value in __init__ funciton (constructor)\n",
    "* the size of matrix ,start : the first matrix that we should play with and then we should make a final matrix\n",
    "\n",
    "#### function_F :\n",
    "* we se the f(n) = g(n) + h(n) therefore we call the Heuristic_function and multipy it with g function\n",
    "\n",
    "#### Heuristic_function : \n",
    "* use manhattan distance for finding the heuristic function its realy obviouse :)\n",
    "\n",
    "#### solve function :\n",
    "* set start and final step to start and final value\n",
    "* then set the start value with instanse of Puzzle and then set the f function of start matrix with function_F method\n",
    "* then set the matrix matrix with start matrix\n",
    "* and then we write True loop until the heuristic of matrix is equal 0\n",
    "* and the end we should eliminate the curent matrix"
   ]
  },
  {
   "cell_type": "code",
   "execution_count": 2,
   "id": "5958d67e",
   "metadata": {},
   "outputs": [],
   "source": [
    "class N_puzzle_problem:\n",
    "    def __init__(self,size,s,f):\n",
    "        self.size = size\n",
    "        self.start = s\n",
    "        self.final = f\n",
    "        self.matrix = []\n",
    "        self.eliminate = []\n",
    "    def function_F(self,start,final):\n",
    "        return self.Hueristic_function(start.matrix,final)+start.g\n",
    "    def Hueristic_function(self,start,final):\n",
    "        h = 0\n",
    "        for i in range(0,self.size):\n",
    "            for j in range(0,self.size):\n",
    "                if start[i][j] != final[i][j] and start[i][j] != '0':\n",
    "                    h += 1\n",
    "        return h\n",
    "    def solve(self):\n",
    "        start = self.start     \n",
    "        final = self.final\n",
    "        start = Puzzle(start,0,0)\n",
    "        start.f = self.function_F(start,final)\n",
    "        self.matrix.append(start)\n",
    "        print(\"\\n\\n\")\n",
    "        while True:\n",
    "            trueMatrix = self.matrix[0]\n",
    "            print(\"-----------\")\n",
    "            for i in trueMatrix.matrix:\n",
    "                for j in i:\n",
    "                    print(j,end=\" \")\n",
    "                print(\"\")\n",
    "            if(self.Hueristic_function(trueMatrix.matrix,final) == 0):\n",
    "                break\n",
    "            for i in trueMatrix.moving():\n",
    "                i.f = self.function_F(i,final)\n",
    "                self.matrix.append(i)\n",
    "            self.eliminate.append(trueMatrix)\n",
    "            del self.matrix[0]\n",
    "            self.matrix.sort(key = lambda x:x.f,reverse=False)"
   ]
  },
  {
   "cell_type": "markdown",
   "id": "40d3794d",
   "metadata": {},
   "source": [
    "##### now we should pass the two matrix one of the is start matrix and the second one is finial matrix \n",
    "<p><h2 style=\"color: red\">Note: </h2>we show the free tile with 0</p>\n",
    "\n",
    "## for example for 3 * 3 we can use this value :\n",
    "* start_matrix = [['1','2','3'],['0','4','6'],['7','5','8']]\n",
    "* finish_matrix =  [['1','2','3'],['4','5','6'],['7','8','0']]\n",
    "## or :\n",
    "* start_matrix = [['2','8','3'],['1','6','4'],['7','0','5']]\n",
    "* finish_matrix =  [['1','2','3'],['8','0','4'],['7','6','5']]\n",
    "## for example for 4 * 4 we can use this value :\n",
    "* start_matrix = [['1','2','3','4'],['5','6','7','8'],['9','10','11','12'],['0','13','14','15']]\n",
    "* finish_matrix =  [['1','2','3','4'],['5','6','7','8'],['9','10','11','12'],['13','14','15','0']]\n",
    "\n",
    "# pay attention : we should set value like Top examples"
   ]
  },
  {
   "cell_type": "code",
   "execution_count": 4,
   "id": "375505c1",
   "metadata": {},
   "outputs": [
    {
     "name": "stdout",
     "output_type": "stream",
     "text": [
      "\n",
      "\n",
      "\n",
      "-----------\n",
      "1 2 3 4 \n",
      "5 6 7 8 \n",
      "9 10 11 12 \n",
      "0 13 14 15 \n",
      "-----------\n",
      "1 2 3 4 \n",
      "5 6 7 8 \n",
      "9 10 11 12 \n",
      "13 0 14 15 \n",
      "-----------\n",
      "1 2 3 4 \n",
      "5 6 7 8 \n",
      "9 10 11 12 \n",
      "13 14 0 15 \n",
      "-----------\n",
      "1 2 3 4 \n",
      "5 6 7 8 \n",
      "9 10 11 12 \n",
      "13 14 15 0 \n"
     ]
    }
   ],
   "source": [
    "start_matrix = [['1','2','3','4'],['5','6','7','8'],['9','10','11','12'],['0','13','14','15']]\n",
    "finish_matrix =  [['1','2','3','4'],['5','6','7','8'],['9','10','11','12'],['13','14','15','0']]\n",
    "p = N_puzzle_problem(4,start_matrix,finish_matrix)\n",
    "p.solve()"
   ]
  },
  {
   "cell_type": "code",
   "execution_count": null,
   "id": "538ab57a",
   "metadata": {},
   "outputs": [],
   "source": []
  }
 ],
 "metadata": {
  "kernelspec": {
   "display_name": "Python 3 (ipykernel)",
   "language": "python",
   "name": "python3"
  },
  "language_info": {
   "codemirror_mode": {
    "name": "ipython",
    "version": 3
   },
   "file_extension": ".py",
   "mimetype": "text/x-python",
   "name": "python",
   "nbconvert_exporter": "python",
   "pygments_lexer": "ipython3",
   "version": "3.9.7"
  }
 },
 "nbformat": 4,
 "nbformat_minor": 5
}
